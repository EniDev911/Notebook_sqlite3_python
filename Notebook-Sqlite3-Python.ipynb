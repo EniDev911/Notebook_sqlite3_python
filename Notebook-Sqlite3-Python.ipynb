{
    "metadata": {
        "kernelspec": {
            "name": "python3",
            "display_name": "Python 3",
            "language": "python"
        },
        "language_info": {
            "name": "python",
            "version": "3.6.6",
            "mimetype": "text/x-python",
            "codemirror_mode": {
                "name": "ipython",
                "version": 3
            },
            "pygments_lexer": "ipython3",
            "nbconvert_exporter": "python",
            "file_extension": ".py"
        }
    },
    "nbformat_minor": 2,
    "nbformat": 4,
    "cells": [
        {
            "cell_type": "markdown",
            "source": [
                "## **Crear una base de datos**  \r\n",
                "Cuando creas una conexión con SQLite, un archivo de base de datos se crea automáticamente si no existe ya\r\n",
                "\r\n",
                ""
            ],
            "metadata": {
                "azdata_cell_guid": "9b0bc8ee-4cc7-433f-8b99-92055da3ffd6"
            }
        },
        {
            "cell_type": "code",
            "source": [
                "import sqlite3\n",
                "import os\n",
                "db_filename = 'todo.db'\n",
                "schema_filename = 'todo_schema.sql'\n",
                "db_is_new = not os.path.exists(db_filename)\n",
                "with sqlite3.connect(db_filename) as conn:\n",
                "    if db_is_new:\n",
                "        print('Creating schema')\n",
                "        with open(schema_filename, 'rt') as f:\n",
                "            schema = f.read()\n",
                "        conn.executescript(schema)\n",
                "        print('Insert initial data')\n",
                "        conn.executescript(\"\"\"\n",
                "            INSERT INTO project (name, description, deadline)\n",
                "            VALUES ('enotepy', 'Execute Notebook Python', '2021-06-02');\n",
                "            INSERT INTO task (detail, status, deadline, project)\n",
                "            VALUES ('write about select', 'done', '2021-06-03', 'enotepy');\"\"\")\n",
                "    else:\n",
                "        print('Database exists, assume schema does, too!')"
            ],
            "metadata": {
                "azdata_cell_guid": "16eab031-7aee-423b-b181-6541c4077106"
            },
            "outputs": [
                {
                    "name": "stdout",
                    "text": "Creating schema\n",
                    "output_type": "stream"
                },
                {
                    "name": "stdout",
                    "text": "Insert initial data\n",
                    "output_type": "stream"
                }
            ],
            "execution_count": 1
        }
    ]
}